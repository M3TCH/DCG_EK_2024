{
 "cells": [
  {
   "cell_type": "code",
   "execution_count": null,
   "id": "8790f455-d13b-4f75-8338-cc80239ec41a",
   "metadata": {},
   "outputs": [],
   "source": [
    "import numpy as np # linear algebra\n",
    "import pandas as pd # data processing, CSV file I/O (e.g. pd.read_csv)\n",
    "\n",
    "lands = [\"Germany\", \"Scotland\", \"Hungary\", \"Switzerland\", \"Spain\", \"Croatia\", \"Italy\", \"Albania\", \n",
    "         \"England\", \"Denmark\", \"Serbia\", \"Slovenia\", \"France\", \"Netherlands\", \"Austria\", \"Poland\", \n",
    "         \"Belgium\", \"Slovakia\", \"Romania\", \"Ukraine\", \"Turkey\", \"Portugal\", \"Czech Republic\", \"Georgia\"]\n",
    "\n",
    "## player valuation inladen; date goedzetten; jaar extraheren\n",
    "Transfer_values = pd.read_csv(\"/kaggle/input/spelers-informatie/player_valuations.csv\")\n",
    "Transfer_values[\"date\"] = pd.to_datetime(Transfer_values[\"date\"])\n",
    "Transfer_values['year'], Transfer_values['month'] = Transfer_values['date'].dt.year, Transfer_values['date'].dt.month\n",
    "\n",
    "## groeperen op sleper en jaar; bereken het gemiddelde tranfser waarde\n",
    "Transfer_value_players = Transfer_values.groupby([\"player_id\", \"year\"])[\"market_value_in_eur\"].mean()\n",
    "Transfer_value_players = pd.DataFrame(Transfer_value_players).reset_index()\n",
    "\n",
    "## player informatie inladen; belangrijke kolommen houden; samenvoegen met Transfer_value_players; behoud alleen 2007+ en EK landen\n",
    "players = pd.read_csv(\"/kaggle/input/spelers-informatie/players.csv\")\n",
    "players = players[[\"player_id\",\"name\", \"country_of_citizenship\"]]\n",
    "Transfer_player_country = players.merge(Transfer_value_players, on = 'player_id')\n",
    "Transfer_player_country = Transfer_player_country[(Transfer_player_country[\"year\"] >=2007)&(Transfer_player_country['country_of_citizenship'].isin(lands))]\n",
    "Country_transfer = pd.DataFrame(Transfer_player_country.groupby([\"country_of_citizenship\",\"year\"])[\"market_value_in_eur\"].mean()).reset_index()\n",
    "\n",
    "# Groepeer de data per land en per jaar\n",
    "grouped = Country_transfer.groupby(['country_of_citizenship', 'year'])\n",
    "\n",
    "# Bereken het gemiddelde van de top 25 duurste spelers per groep; maak het een geheel getal van\n",
    "landenlijst = grouped.apply(lambda x: x.nlargest(25, 'market_value_in_eur')['market_value_in_eur'].mean()).reset_index(name='gemiddelde_waarde')\n",
    "landenlijst[\"gemiddelde_waarde\"] = landenlijst[\"gemiddelde_waarde\"].astype('int64')\n",
    "landenlijst"
   ]
  }
 ],
 "metadata": {
  "kernelspec": {
   "display_name": "Python 3 (ipykernel)",
   "language": "python",
   "name": "python3"
  },
  "language_info": {
   "codemirror_mode": {
    "name": "ipython",
    "version": 3
   },
   "file_extension": ".py",
   "mimetype": "text/x-python",
   "name": "python",
   "nbconvert_exporter": "python",
   "pygments_lexer": "ipython3",
   "version": "3.11.7"
  }
 },
 "nbformat": 4,
 "nbformat_minor": 5
}
